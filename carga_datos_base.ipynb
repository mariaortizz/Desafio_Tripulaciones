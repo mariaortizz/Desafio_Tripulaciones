{
 "cells": [
  {
   "cell_type": "code",
   "execution_count": 8,
   "metadata": {},
   "outputs": [],
   "source": [
    "import pandas as pd\n",
    "import sqlite3\n",
    "import traceback\n",
    "db_path = 'mera_parivar.db'"
   ]
  },
  {
   "cell_type": "code",
   "execution_count": 9,
   "metadata": {},
   "outputs": [],
   "source": [
    "def change_table(connection, table : str, primary_key : str, changes : dict or list):\n",
    "    \"\"\" Given a connection and a table to where to set the changes, first try to update the database.\n",
    "    If that fails because the ID already exists, then it will insert the values.\n",
    "\n",
    "    Args:\n",
    "        connection : _description_\n",
    "        table : _description_\n",
    "        changes (dict): {'ID':'value1', 'column2':'value2'}\n",
    "                (list): [{'ID':'value1', 'column2':'value2'}, {'ID':'value1', 'column2':'value2'}]\n",
    "    \"\"\"\n",
    "    code = 0\n",
    "    message = ''\n",
    "\n",
    "\n",
    "    if type(changes) == dict:\n",
    "        columns = \", \".join([f'\"{x}\"' for x in changes.keys()])\n",
    "        excluded_changes = \", \".join([f'\"{x}\"=excluded.\"{x}\"' for x in changes.keys()])\n",
    "        values = \", \".join([f'\"{x}\"' for x in changes.values()])\n",
    "        query = f\"\"\"\n",
    "        INSERT INTO \"{table}\"({columns})\n",
    "        VALUES ({values})\n",
    "        ON CONFLICT(\"{primary_key}\")\n",
    "        DO UPDATE SET {excluded_changes}\n",
    "        \"\"\"\n",
    "    elif type(changes) == list:\n",
    "        columns = \", \".join([f'\"{x}\"' for x in changes[0].keys()])\n",
    "        excluded_changes = \", \".join([f'\"{x}\"=excluded.\"{x}\"' for x in changes[0].keys()])\n",
    "        values = \", \".join([f'?' for x in changes[0].values()])\n",
    "        list_of_tuples = [tuple(x.values()) for x in changes]\n",
    "        query = f\"\"\"\n",
    "        INSERT INTO \"{table}\"({columns})\n",
    "        VALUES ({values})\n",
    "        ON CONFLICT(\"{primary_key}\")\n",
    "        DO UPDATE SET {excluded_changes}\n",
    "        \"\"\"\n",
    "    try:\n",
    "        cursor = connection.cursor()\n",
    "        if type(changes) == dict:\n",
    "            cursor.execute(query)\n",
    "            message = f'Se ha actualizado \"{primary_key}\"=\"{changes[primary_key]}\" correctamente.'\n",
    "        elif type(changes) == list:\n",
    "            cursor.executemany(query, list_of_tuples)\n",
    "            message = f'Se han actualizado {len(changes)} filas correctamente.'\n",
    "        connection.commit()\n",
    "    except sqlite3.OperationalError as e:\n",
    "        code = 1\n",
    "        message = f'NO se ha actualizado la base de datos debido a OperationalError:\\\n",
    "        \\n{traceback.format_exc()}\\n\\ntratando de ejecutar la query{query}'\n",
    "    except Exception as e:\n",
    "        code = 2\n",
    "        message = f'NO se ha actualizado la base de datos debido a un error no previsto:\\\n",
    "        \\n{traceback.format_exc()}\\n\\ntratando de ejecutar la query{query}'\n",
    "    return code, message"
   ]
  },
  {
   "cell_type": "markdown",
   "metadata": {},
   "source": [
    "# Educacion"
   ]
  },
  {
   "cell_type": "markdown",
   "metadata": {},
   "source": [
    "## Estudiantes"
   ]
  },
  {
   "cell_type": "code",
   "execution_count": 10,
   "metadata": {},
   "outputs": [],
   "source": [
    "df_students = pd.read_excel('csvs\\Educacion.xlsx', sheet_name = 'Hoja1')"
   ]
  },
  {
   "cell_type": "code",
   "execution_count": 11,
   "metadata": {},
   "outputs": [
    {
     "data": {
      "text/html": [
       "<div>\n",
       "<style scoped>\n",
       "    .dataframe tbody tr th:only-of-type {\n",
       "        vertical-align: middle;\n",
       "    }\n",
       "\n",
       "    .dataframe tbody tr th {\n",
       "        vertical-align: top;\n",
       "    }\n",
       "\n",
       "    .dataframe thead th {\n",
       "        text-align: right;\n",
       "    }\n",
       "</style>\n",
       "<table border=\"1\" class=\"dataframe\">\n",
       "  <thead>\n",
       "    <tr style=\"text-align: right;\">\n",
       "      <th></th>\n",
       "      <th>ID_student</th>\n",
       "      <th>student_name</th>\n",
       "      <th>student_last_name</th>\n",
       "      <th>student_birthdate</th>\n",
       "      <th>student_identification_number</th>\n",
       "      <th>student_sex</th>\n",
       "      <th>student_contact_number</th>\n",
       "      <th>active</th>\n",
       "    </tr>\n",
       "  </thead>\n",
       "  <tbody>\n",
       "    <tr>\n",
       "      <th>0</th>\n",
       "      <td>0</td>\n",
       "      <td>Arjun</td>\n",
       "      <td>Patel</td>\n",
       "      <td>2021-03-15</td>\n",
       "      <td>123456789</td>\n",
       "      <td>M</td>\n",
       "      <td>1234567890</td>\n",
       "      <td>Y</td>\n",
       "    </tr>\n",
       "    <tr>\n",
       "      <th>1</th>\n",
       "      <td>1</td>\n",
       "      <td>Arjun</td>\n",
       "      <td>Sharma</td>\n",
       "      <td>2021-07-22</td>\n",
       "      <td>321654987</td>\n",
       "      <td>M</td>\n",
       "      <td>1234567890</td>\n",
       "      <td>Y</td>\n",
       "    </tr>\n",
       "    <tr>\n",
       "      <th>2</th>\n",
       "      <td>2</td>\n",
       "      <td>Aarav</td>\n",
       "      <td>Singh</td>\n",
       "      <td>2021-11-09</td>\n",
       "      <td>789456915</td>\n",
       "      <td>M</td>\n",
       "      <td>1234567890</td>\n",
       "      <td>Y</td>\n",
       "    </tr>\n",
       "    <tr>\n",
       "      <th>3</th>\n",
       "      <td>3</td>\n",
       "      <td>Dev</td>\n",
       "      <td>Kumar</td>\n",
       "      <td>2021-04-28</td>\n",
       "      <td>123546431</td>\n",
       "      <td>M</td>\n",
       "      <td>1234567890</td>\n",
       "      <td>Y</td>\n",
       "    </tr>\n",
       "    <tr>\n",
       "      <th>4</th>\n",
       "      <td>4</td>\n",
       "      <td>Rohan</td>\n",
       "      <td>Gupta</td>\n",
       "      <td>2021-10-03</td>\n",
       "      <td>123654987</td>\n",
       "      <td>M</td>\n",
       "      <td>1234567890</td>\n",
       "      <td>Y</td>\n",
       "    </tr>\n",
       "  </tbody>\n",
       "</table>\n",
       "</div>"
      ],
      "text/plain": [
       "   ID_student student_name student_last_name student_birthdate  \\\n",
       "0           0        Arjun             Patel        2021-03-15   \n",
       "1           1        Arjun            Sharma        2021-07-22   \n",
       "2           2        Aarav             Singh        2021-11-09   \n",
       "3           3          Dev             Kumar        2021-04-28   \n",
       "4           4        Rohan             Gupta        2021-10-03   \n",
       "\n",
       "   student_identification_number student_sex  student_contact_number active  \n",
       "0                      123456789           M              1234567890      Y  \n",
       "1                      321654987           M              1234567890      Y  \n",
       "2                      789456915           M              1234567890      Y  \n",
       "3                      123546431           M              1234567890      Y  \n",
       "4                      123654987           M              1234567890      Y  "
      ]
     },
     "execution_count": 11,
     "metadata": {},
     "output_type": "execute_result"
    }
   ],
   "source": [
    "df_students.head()"
   ]
  },
  {
   "cell_type": "code",
   "execution_count": 14,
   "metadata": {},
   "outputs": [
    {
     "data": {
      "text/plain": [
       "ID_student                                int64\n",
       "student_name                             object\n",
       "student_last_name                        object\n",
       "student_birthdate                datetime64[ns]\n",
       "student_identification_number             int64\n",
       "student_sex                              object\n",
       "student_contact_number                    int64\n",
       "active                                   object\n",
       "dtype: object"
      ]
     },
     "execution_count": 14,
     "metadata": {},
     "output_type": "execute_result"
    }
   ],
   "source": [
    "df_students.dtypes"
   ]
  },
  {
   "cell_type": "code",
   "execution_count": 15,
   "metadata": {},
   "outputs": [],
   "source": [
    "df_students['student_birthdate'] = df_students['student_birthdate'].astype(str)"
   ]
  },
  {
   "cell_type": "code",
   "execution_count": 16,
   "metadata": {},
   "outputs": [],
   "source": [
    "con = sqlite3.connect(db_path)\n",
    "code, message = change_table(con, 'e_students', 'ID_student', df_students.to_dict('records'))\n",
    "con.close()"
   ]
  },
  {
   "cell_type": "code",
   "execution_count": 17,
   "metadata": {},
   "outputs": [
    {
     "data": {
      "text/plain": [
       "'Se han actualizado 50 filas correctamente.'"
      ]
     },
     "execution_count": 17,
     "metadata": {},
     "output_type": "execute_result"
    }
   ],
   "source": [
    "message"
   ]
  },
  {
   "cell_type": "code",
   "execution_count": 6,
   "metadata": {},
   "outputs": [
    {
     "data": {
      "text/plain": [
       "[{'ID_student': 0,\n",
       "  'student_name': 'Arjun',\n",
       "  'student_last_name': 'Patel',\n",
       "  'student_birthdate': Timestamp('2021-03-15 00:00:00'),\n",
       "  'student_identification_number': 123456789,\n",
       "  'student_sex': 'M',\n",
       "  'student_contact_number': 1234567890,\n",
       "  'active': 'Y'},\n",
       " {'ID_student': 1,\n",
       "  'student_name': 'Arjun',\n",
       "  'student_last_name': 'Sharma',\n",
       "  'student_birthdate': Timestamp('2021-07-22 00:00:00'),\n",
       "  'student_identification_number': 321654987,\n",
       "  'student_sex': 'M',\n",
       "  'student_contact_number': 1234567890,\n",
       "  'active': 'Y'},\n",
       " {'ID_student': 2,\n",
       "  'student_name': 'Aarav',\n",
       "  'student_last_name': 'Singh',\n",
       "  'student_birthdate': Timestamp('2021-11-09 00:00:00'),\n",
       "  'student_identification_number': 789456915,\n",
       "  'student_sex': 'M',\n",
       "  'student_contact_number': 1234567890,\n",
       "  'active': 'Y'},\n",
       " {'ID_student': 3,\n",
       "  'student_name': 'Dev',\n",
       "  'student_last_name': 'Kumar',\n",
       "  'student_birthdate': Timestamp('2021-04-28 00:00:00'),\n",
       "  'student_identification_number': 123546431,\n",
       "  'student_sex': 'M',\n",
       "  'student_contact_number': 1234567890,\n",
       "  'active': 'Y'},\n",
       " {'ID_student': 4,\n",
       "  'student_name': 'Rohan',\n",
       "  'student_last_name': 'Gupta',\n",
       "  'student_birthdate': Timestamp('2021-10-03 00:00:00'),\n",
       "  'student_identification_number': 123654987,\n",
       "  'student_sex': 'M',\n",
       "  'student_contact_number': 1234567890,\n",
       "  'active': 'Y'},\n",
       " {'ID_student': 5,\n",
       "  'student_name': 'Aisha',\n",
       "  'student_last_name': 'Shah',\n",
       "  'student_birthdate': Timestamp('2021-01-19 00:00:00'),\n",
       "  'student_identification_number': 123689759,\n",
       "  'student_sex': 'F',\n",
       "  'student_contact_number': 1234567890,\n",
       "  'active': 'Y'},\n",
       " {'ID_student': 6,\n",
       "  'student_name': 'Diya',\n",
       "  'student_last_name': 'Reddy',\n",
       "  'student_birthdate': Timestamp('2021-08-27 00:00:00'),\n",
       "  'student_identification_number': 632555895,\n",
       "  'student_sex': 'F',\n",
       "  'student_contact_number': 1234567890,\n",
       "  'active': 'Y'},\n",
       " {'ID_student': 7,\n",
       "  'student_name': 'Meera',\n",
       "  'student_last_name': 'Khan',\n",
       "  'student_birthdate': Timestamp('2021-12-11 00:00:00'),\n",
       "  'student_identification_number': 789456321,\n",
       "  'student_sex': 'F',\n",
       "  'student_contact_number': 1234567890,\n",
       "  'active': 'Y'},\n",
       " {'ID_student': 8,\n",
       "  'student_name': 'Nisha',\n",
       "  'student_last_name': 'Choudhary',\n",
       "  'student_birthdate': Timestamp('2021-02-06 00:00:00'),\n",
       "  'student_identification_number': 951354789,\n",
       "  'student_sex': 'F',\n",
       "  'student_contact_number': 1234567890,\n",
       "  'active': 'Y'},\n",
       " {'ID_student': 9,\n",
       "  'student_name': 'Priya',\n",
       "  'student_last_name': 'Yadav',\n",
       "  'student_birthdate': Timestamp('2021-05-14 00:00:00'),\n",
       "  'student_identification_number': 987654321,\n",
       "  'student_sex': 'F',\n",
       "  'student_contact_number': 1234567890,\n",
       "  'active': 'Y'},\n",
       " {'ID_student': 10,\n",
       "  'student_name': 'Vikram',\n",
       "  'student_last_name': 'Jain',\n",
       "  'student_birthdate': Timestamp('2016-03-15 00:00:00'),\n",
       "  'student_identification_number': 123456789,\n",
       "  'student_sex': 'M',\n",
       "  'student_contact_number': 1234567890,\n",
       "  'active': 'Y'},\n",
       " {'ID_student': 11,\n",
       "  'student_name': 'Siddharth',\n",
       "  'student_last_name': 'Mehta',\n",
       "  'student_birthdate': Timestamp('2016-07-22 00:00:00'),\n",
       "  'student_identification_number': 321654987,\n",
       "  'student_sex': 'M',\n",
       "  'student_contact_number': 1234567890,\n",
       "  'active': 'Y'},\n",
       " {'ID_student': 12,\n",
       "  'student_name': 'Aditya',\n",
       "  'student_last_name': 'Joshi',\n",
       "  'student_birthdate': Timestamp('2016-11-09 00:00:00'),\n",
       "  'student_identification_number': 789456915,\n",
       "  'student_sex': 'M',\n",
       "  'student_contact_number': 1234567890,\n",
       "  'active': 'Y'},\n",
       " {'ID_student': 13,\n",
       "  'student_name': 'Kunal',\n",
       "  'student_last_name': 'Desai',\n",
       "  'student_birthdate': Timestamp('2016-04-28 00:00:00'),\n",
       "  'student_identification_number': 123546431,\n",
       "  'student_sex': 'M',\n",
       "  'student_contact_number': 1234567890,\n",
       "  'active': 'Y'},\n",
       " {'ID_student': 14,\n",
       "  'student_name': 'Rahul',\n",
       "  'student_last_name': 'Bhat',\n",
       "  'student_birthdate': Timestamp('2016-10-03 00:00:00'),\n",
       "  'student_identification_number': 123654987,\n",
       "  'student_sex': 'M',\n",
       "  'student_contact_number': 1234567890,\n",
       "  'active': 'Y'},\n",
       " {'ID_student': 15,\n",
       "  'student_name': 'Anika',\n",
       "  'student_last_name': 'Roy',\n",
       "  'student_birthdate': Timestamp('2016-01-19 00:00:00'),\n",
       "  'student_identification_number': 123689759,\n",
       "  'student_sex': 'F',\n",
       "  'student_contact_number': 1234567890,\n",
       "  'active': 'Y'},\n",
       " {'ID_student': 16,\n",
       "  'student_name': 'Ishika',\n",
       "  'student_last_name': 'Das',\n",
       "  'student_birthdate': Timestamp('2016-08-27 00:00:00'),\n",
       "  'student_identification_number': 632555895,\n",
       "  'student_sex': 'F',\n",
       "  'student_contact_number': 1234567890,\n",
       "  'active': 'Y'},\n",
       " {'ID_student': 17,\n",
       "  'student_name': 'Riya',\n",
       "  'student_last_name': 'Mishra',\n",
       "  'student_birthdate': Timestamp('2016-12-11 00:00:00'),\n",
       "  'student_identification_number': 789456321,\n",
       "  'student_sex': 'F',\n",
       "  'student_contact_number': 1234567890,\n",
       "  'active': 'Y'},\n",
       " {'ID_student': 18,\n",
       "  'student_name': 'Tanvi',\n",
       "  'student_last_name': 'Verma',\n",
       "  'student_birthdate': Timestamp('2016-02-06 00:00:00'),\n",
       "  'student_identification_number': 951354789,\n",
       "  'student_sex': 'F',\n",
       "  'student_contact_number': 1234567890,\n",
       "  'active': 'Y'},\n",
       " {'ID_student': 19,\n",
       "  'student_name': 'Uma',\n",
       "  'student_last_name': 'Naidu',\n",
       "  'student_birthdate': Timestamp('2016-05-14 00:00:00'),\n",
       "  'student_identification_number': 987654321,\n",
       "  'student_sex': 'F',\n",
       "  'student_contact_number': 1234567890,\n",
       "  'active': 'Y'},\n",
       " {'ID_student': 20,\n",
       "  'student_name': 'Arjun',\n",
       "  'student_last_name': 'Hegde',\n",
       "  'student_birthdate': Timestamp('2010-03-15 00:00:00'),\n",
       "  'student_identification_number': 123456789,\n",
       "  'student_sex': 'M',\n",
       "  'student_contact_number': 1234567890,\n",
       "  'active': 'Y'},\n",
       " {'ID_student': 21,\n",
       "  'student_name': 'Arjun',\n",
       "  'student_last_name': 'Rao',\n",
       "  'student_birthdate': Timestamp('2010-07-22 00:00:00'),\n",
       "  'student_identification_number': 321654987,\n",
       "  'student_sex': 'M',\n",
       "  'student_contact_number': 1234567890,\n",
       "  'active': 'Y'},\n",
       " {'ID_student': 22,\n",
       "  'student_name': 'Aarav',\n",
       "  'student_last_name': 'Patel',\n",
       "  'student_birthdate': Timestamp('2010-11-09 00:00:00'),\n",
       "  'student_identification_number': 789456915,\n",
       "  'student_sex': 'M',\n",
       "  'student_contact_number': 1234567890,\n",
       "  'active': 'Y'},\n",
       " {'ID_student': 23,\n",
       "  'student_name': 'Dev',\n",
       "  'student_last_name': 'Banerjee',\n",
       "  'student_birthdate': Timestamp('2010-04-28 00:00:00'),\n",
       "  'student_identification_number': 123546431,\n",
       "  'student_sex': 'M',\n",
       "  'student_contact_number': 1234567890,\n",
       "  'active': 'Y'},\n",
       " {'ID_student': 24,\n",
       "  'student_name': 'Rohan',\n",
       "  'student_last_name': 'Tiwari',\n",
       "  'student_birthdate': Timestamp('2010-10-03 00:00:00'),\n",
       "  'student_identification_number': 123654987,\n",
       "  'student_sex': 'M',\n",
       "  'student_contact_number': 1234567890,\n",
       "  'active': 'Y'},\n",
       " {'ID_student': 25,\n",
       "  'student_name': 'Aisha',\n",
       "  'student_last_name': 'Patel',\n",
       "  'student_birthdate': Timestamp('2010-01-19 00:00:00'),\n",
       "  'student_identification_number': 123689759,\n",
       "  'student_sex': 'F',\n",
       "  'student_contact_number': 1234567890,\n",
       "  'active': 'Y'},\n",
       " {'ID_student': 26,\n",
       "  'student_name': 'Diya',\n",
       "  'student_last_name': 'Sharma',\n",
       "  'student_birthdate': Timestamp('2010-08-27 00:00:00'),\n",
       "  'student_identification_number': 632555895,\n",
       "  'student_sex': 'F',\n",
       "  'student_contact_number': 1234567890,\n",
       "  'active': 'Y'},\n",
       " {'ID_student': 27,\n",
       "  'student_name': 'Meera',\n",
       "  'student_last_name': 'Singh',\n",
       "  'student_birthdate': Timestamp('2010-12-11 00:00:00'),\n",
       "  'student_identification_number': 789456321,\n",
       "  'student_sex': 'F',\n",
       "  'student_contact_number': 1234567890,\n",
       "  'active': 'Y'},\n",
       " {'ID_student': 28,\n",
       "  'student_name': 'Nisha',\n",
       "  'student_last_name': 'Kumar',\n",
       "  'student_birthdate': Timestamp('2010-02-06 00:00:00'),\n",
       "  'student_identification_number': 951354789,\n",
       "  'student_sex': 'F',\n",
       "  'student_contact_number': 1234567890,\n",
       "  'active': 'Y'},\n",
       " {'ID_student': 29,\n",
       "  'student_name': 'Priya',\n",
       "  'student_last_name': 'Gupta',\n",
       "  'student_birthdate': Timestamp('2010-05-14 00:00:00'),\n",
       "  'student_identification_number': 987654321,\n",
       "  'student_sex': 'F',\n",
       "  'student_contact_number': 1234567890,\n",
       "  'active': 'Y'},\n",
       " {'ID_student': 30,\n",
       "  'student_name': 'Priya',\n",
       "  'student_last_name': 'Shah',\n",
       "  'student_birthdate': Timestamp('1995-03-15 00:00:00'),\n",
       "  'student_identification_number': 123456789,\n",
       "  'student_sex': 'F',\n",
       "  'student_contact_number': 1234567890,\n",
       "  'active': 'Y'},\n",
       " {'ID_student': 31,\n",
       "  'student_name': 'Aarti',\n",
       "  'student_last_name': 'Reddy',\n",
       "  'student_birthdate': Timestamp('1995-07-22 00:00:00'),\n",
       "  'student_identification_number': 321654987,\n",
       "  'student_sex': 'F',\n",
       "  'student_contact_number': 1234567890,\n",
       "  'active': 'Y'},\n",
       " {'ID_student': 32,\n",
       "  'student_name': 'Neha',\n",
       "  'student_last_name': 'Khan',\n",
       "  'student_birthdate': Timestamp('1995-11-09 00:00:00'),\n",
       "  'student_identification_number': 789456915,\n",
       "  'student_sex': 'F',\n",
       "  'student_contact_number': 1234567890,\n",
       "  'active': 'Y'},\n",
       " {'ID_student': 33,\n",
       "  'student_name': 'Pooja',\n",
       "  'student_last_name': 'Choudhary',\n",
       "  'student_birthdate': Timestamp('1995-04-28 00:00:00'),\n",
       "  'student_identification_number': 123546431,\n",
       "  'student_sex': 'F',\n",
       "  'student_contact_number': 1234567890,\n",
       "  'active': 'Y'},\n",
       " {'ID_student': 34,\n",
       "  'student_name': 'Ritu',\n",
       "  'student_last_name': 'Yadav',\n",
       "  'student_birthdate': Timestamp('1995-10-03 00:00:00'),\n",
       "  'student_identification_number': 123654987,\n",
       "  'student_sex': 'F',\n",
       "  'student_contact_number': 1234567890,\n",
       "  'active': 'Y'},\n",
       " {'ID_student': 35,\n",
       "  'student_name': 'Sonam',\n",
       "  'student_last_name': 'Jain',\n",
       "  'student_birthdate': Timestamp('1995-01-19 00:00:00'),\n",
       "  'student_identification_number': 123689759,\n",
       "  'student_sex': 'F',\n",
       "  'student_contact_number': 1234567890,\n",
       "  'active': 'Y'},\n",
       " {'ID_student': 36,\n",
       "  'student_name': 'Anjali',\n",
       "  'student_last_name': 'Mehta',\n",
       "  'student_birthdate': Timestamp('1995-08-27 00:00:00'),\n",
       "  'student_identification_number': 632555895,\n",
       "  'student_sex': 'F',\n",
       "  'student_contact_number': 1234567890,\n",
       "  'active': 'Y'},\n",
       " {'ID_student': 37,\n",
       "  'student_name': 'Sunita',\n",
       "  'student_last_name': 'Joshi',\n",
       "  'student_birthdate': Timestamp('1995-12-11 00:00:00'),\n",
       "  'student_identification_number': 789456321,\n",
       "  'student_sex': 'F',\n",
       "  'student_contact_number': 1234567890,\n",
       "  'active': 'Y'},\n",
       " {'ID_student': 38,\n",
       "  'student_name': 'Divya',\n",
       "  'student_last_name': 'Desai',\n",
       "  'student_birthdate': Timestamp('1995-02-06 00:00:00'),\n",
       "  'student_identification_number': 951354789,\n",
       "  'student_sex': 'F',\n",
       "  'student_contact_number': 1234567890,\n",
       "  'active': 'Y'},\n",
       " {'ID_student': 39,\n",
       "  'student_name': 'Swati',\n",
       "  'student_last_name': 'Bhat',\n",
       "  'student_birthdate': Timestamp('1995-05-14 00:00:00'),\n",
       "  'student_identification_number': 987654321,\n",
       "  'student_sex': 'F',\n",
       "  'student_contact_number': 1234567890,\n",
       "  'active': 'Y'},\n",
       " {'ID_student': 40,\n",
       "  'student_name': 'Kavita',\n",
       "  'student_last_name': 'Roy',\n",
       "  'student_birthdate': Timestamp('2000-03-15 00:00:00'),\n",
       "  'student_identification_number': 123456789,\n",
       "  'student_sex': 'F',\n",
       "  'student_contact_number': 1234567890,\n",
       "  'active': 'Y'},\n",
       " {'ID_student': 41,\n",
       "  'student_name': 'Manisha',\n",
       "  'student_last_name': 'Das',\n",
       "  'student_birthdate': Timestamp('2000-07-22 00:00:00'),\n",
       "  'student_identification_number': 321654987,\n",
       "  'student_sex': 'F',\n",
       "  'student_contact_number': 1234567890,\n",
       "  'active': 'Y'},\n",
       " {'ID_student': 42,\n",
       "  'student_name': 'Anita',\n",
       "  'student_last_name': 'Mishra',\n",
       "  'student_birthdate': Timestamp('2000-11-09 00:00:00'),\n",
       "  'student_identification_number': 789456915,\n",
       "  'student_sex': 'F',\n",
       "  'student_contact_number': 1234567890,\n",
       "  'active': 'Y'},\n",
       " {'ID_student': 43,\n",
       "  'student_name': 'Nisha',\n",
       "  'student_last_name': 'Verma',\n",
       "  'student_birthdate': Timestamp('2000-04-28 00:00:00'),\n",
       "  'student_identification_number': 123546431,\n",
       "  'student_sex': 'F',\n",
       "  'student_contact_number': 1234567890,\n",
       "  'active': 'Y'},\n",
       " {'ID_student': 44,\n",
       "  'student_name': 'Jyoti',\n",
       "  'student_last_name': 'Naidu',\n",
       "  'student_birthdate': Timestamp('2000-10-03 00:00:00'),\n",
       "  'student_identification_number': 123654987,\n",
       "  'student_sex': 'F',\n",
       "  'student_contact_number': 1234567890,\n",
       "  'active': 'Y'},\n",
       " {'ID_student': 45,\n",
       "  'student_name': 'Vandana',\n",
       "  'student_last_name': 'Hegde',\n",
       "  'student_birthdate': Timestamp('2000-01-19 00:00:00'),\n",
       "  'student_identification_number': 123689759,\n",
       "  'student_sex': 'F',\n",
       "  'student_contact_number': 1234567890,\n",
       "  'active': 'Y'},\n",
       " {'ID_student': 46,\n",
       "  'student_name': 'Shweta',\n",
       "  'student_last_name': 'Rao',\n",
       "  'student_birthdate': Timestamp('2000-08-27 00:00:00'),\n",
       "  'student_identification_number': 632555895,\n",
       "  'student_sex': 'F',\n",
       "  'student_contact_number': 1234567890,\n",
       "  'active': 'Y'},\n",
       " {'ID_student': 47,\n",
       "  'student_name': 'Deepika',\n",
       "  'student_last_name': 'Patel',\n",
       "  'student_birthdate': Timestamp('2000-12-11 00:00:00'),\n",
       "  'student_identification_number': 789456321,\n",
       "  'student_sex': 'F',\n",
       "  'student_contact_number': 1234567890,\n",
       "  'active': 'Y'},\n",
       " {'ID_student': 48,\n",
       "  'student_name': 'Rekha',\n",
       "  'student_last_name': 'Banerjee',\n",
       "  'student_birthdate': Timestamp('2000-02-06 00:00:00'),\n",
       "  'student_identification_number': 951354789,\n",
       "  'student_sex': 'F',\n",
       "  'student_contact_number': 1234567890,\n",
       "  'active': 'Y'},\n",
       " {'ID_student': 49,\n",
       "  'student_name': 'Radha',\n",
       "  'student_last_name': 'Tiwari',\n",
       "  'student_birthdate': Timestamp('2000-05-14 00:00:00'),\n",
       "  'student_identification_number': 987654321,\n",
       "  'student_sex': 'F',\n",
       "  'student_contact_number': 1234567890,\n",
       "  'active': 'Y'}]"
      ]
     },
     "execution_count": 6,
     "metadata": {},
     "output_type": "execute_result"
    }
   ],
   "source": [
    "dicc_students = df_students.to_dict('records')"
   ]
  },
  {
   "cell_type": "markdown",
   "metadata": {},
   "source": [
    "## Cursos"
   ]
  },
  {
   "cell_type": "code",
   "execution_count": 18,
   "metadata": {},
   "outputs": [],
   "source": [
    "df_cursos = pd.read_excel('csvs\\Educacion.xlsx', sheet_name = 'Hoja2')"
   ]
  },
  {
   "cell_type": "code",
   "execution_count": 19,
   "metadata": {},
   "outputs": [
    {
     "data": {
      "text/html": [
       "<div>\n",
       "<style scoped>\n",
       "    .dataframe tbody tr th:only-of-type {\n",
       "        vertical-align: middle;\n",
       "    }\n",
       "\n",
       "    .dataframe tbody tr th {\n",
       "        vertical-align: top;\n",
       "    }\n",
       "\n",
       "    .dataframe thead th {\n",
       "        text-align: right;\n",
       "    }\n",
       "</style>\n",
       "<table border=\"1\" class=\"dataframe\">\n",
       "  <thead>\n",
       "    <tr style=\"text-align: right;\">\n",
       "      <th></th>\n",
       "      <th>ID_course</th>\n",
       "      <th>course_name</th>\n",
       "      <th>course_schedule</th>\n",
       "      <th>course_description</th>\n",
       "    </tr>\n",
       "  </thead>\n",
       "  <tbody>\n",
       "    <tr>\n",
       "      <th>0</th>\n",
       "      <td>NUR</td>\n",
       "      <td>Nursury</td>\n",
       "      <td>morning</td>\n",
       "      <td>NaN</td>\n",
       "    </tr>\n",
       "    <tr>\n",
       "      <th>1</th>\n",
       "      <td>LKG</td>\n",
       "      <td>Lower Kinder Garden</td>\n",
       "      <td>morning</td>\n",
       "      <td>NaN</td>\n",
       "    </tr>\n",
       "    <tr>\n",
       "      <th>2</th>\n",
       "      <td>UKG</td>\n",
       "      <td>Upper Kinder Garden</td>\n",
       "      <td>morning</td>\n",
       "      <td>NaN</td>\n",
       "    </tr>\n",
       "    <tr>\n",
       "      <th>3</th>\n",
       "      <td>WM</td>\n",
       "      <td>Women Program</td>\n",
       "      <td>evening</td>\n",
       "      <td>NaN</td>\n",
       "    </tr>\n",
       "  </tbody>\n",
       "</table>\n",
       "</div>"
      ],
      "text/plain": [
       "  ID_course          course_name course_schedule  course_description\n",
       "0       NUR              Nursury         morning                 NaN\n",
       "1       LKG  Lower Kinder Garden         morning                 NaN\n",
       "2       UKG  Upper Kinder Garden         morning                 NaN\n",
       "3        WM        Women Program         evening                 NaN"
      ]
     },
     "execution_count": 19,
     "metadata": {},
     "output_type": "execute_result"
    }
   ],
   "source": [
    "df_cursos"
   ]
  },
  {
   "cell_type": "code",
   "execution_count": 20,
   "metadata": {},
   "outputs": [],
   "source": [
    "con = sqlite3.connect(db_path)\n",
    "code, message = change_table(con, 'e_courses', 'ID_course', df_cursos.to_dict('records'))\n",
    "con.close()\n",
    "\n",
    "if code != 0:\n",
    "    print(message)"
   ]
  },
  {
   "cell_type": "markdown",
   "metadata": {},
   "source": [
    "## Inscripcion"
   ]
  },
  {
   "cell_type": "code",
   "execution_count": 28,
   "metadata": {},
   "outputs": [],
   "source": [
    "df_inscrip = pd.read_excel('csvs\\Educacion.xlsx', sheet_name = 'Hoja3')"
   ]
  },
  {
   "cell_type": "code",
   "execution_count": 29,
   "metadata": {},
   "outputs": [],
   "source": [
    "df_inscrip['inscription_date'] = df_inscrip['inscription_date'].astype(str)"
   ]
  },
  {
   "cell_type": "code",
   "execution_count": 30,
   "metadata": {},
   "outputs": [],
   "source": [
    "con = sqlite3.connect(db_path)\n",
    "code, message = change_table(con, 'e_inscription', 'ID_inscription', df_inscrip.to_dict('records'))\n",
    "con.close()\n",
    "\n",
    "if code != 0:\n",
    "    print(message)"
   ]
  },
  {
   "cell_type": "markdown",
   "metadata": {},
   "source": [
    "## Prof"
   ]
  },
  {
   "cell_type": "code",
   "execution_count": 31,
   "metadata": {},
   "outputs": [],
   "source": [
    "df_teach = pd.read_excel('csvs\\Educacion.xlsx', sheet_name = 'Hoja4')"
   ]
  },
  {
   "cell_type": "code",
   "execution_count": 32,
   "metadata": {},
   "outputs": [],
   "source": [
    "df_teach['teacher_birthdate'] = df_teach['teacher_birthdate'].astype(str)"
   ]
  },
  {
   "cell_type": "code",
   "execution_count": 33,
   "metadata": {},
   "outputs": [],
   "source": [
    "con = sqlite3.connect(db_path)\n",
    "code, message = change_table(con, 'e_teachers', 'ID_teacher', df_teach.to_dict('records'))\n",
    "con.close()\n",
    "\n",
    "if code != 0:\n",
    "    print(message)"
   ]
  },
  {
   "cell_type": "markdown",
   "metadata": {},
   "source": [
    "## Asignaturas"
   ]
  },
  {
   "cell_type": "code",
   "execution_count": 71,
   "metadata": {},
   "outputs": [],
   "source": [
    "df_asig = pd.read_excel('csvs\\Educacion.xlsx', sheet_name = 'Hoja5')"
   ]
  },
  {
   "cell_type": "code",
   "execution_count": 72,
   "metadata": {},
   "outputs": [],
   "source": [
    "con = sqlite3.connect(db_path)\n",
    "code, message = change_table(con, 'e_subjects', 'ID_subject', df_asig.to_dict('records'))\n",
    "con.close()\n",
    "\n",
    "if code != 0:\n",
    "    print(message)"
   ]
  },
  {
   "cell_type": "markdown",
   "metadata": {},
   "source": [
    "## Asistencia"
   ]
  },
  {
   "cell_type": "code",
   "execution_count": 36,
   "metadata": {},
   "outputs": [],
   "source": [
    "df_asist = pd.read_excel('csvs\\Educacion.xlsx', sheet_name = 'Hoja6')"
   ]
  },
  {
   "cell_type": "code",
   "execution_count": 38,
   "metadata": {},
   "outputs": [],
   "source": [
    "df_asist['attendance_date'] = df_asist['attendance_date'].astype(str)"
   ]
  },
  {
   "cell_type": "code",
   "execution_count": 39,
   "metadata": {},
   "outputs": [],
   "source": [
    "con = sqlite3.connect(db_path)\n",
    "code, message = change_table(con, 'e_attendance', 'ID_attendance', df_asist.to_dict('records'))\n",
    "con.close()\n",
    "\n",
    "if code != 0:\n",
    "    print(message)"
   ]
  },
  {
   "cell_type": "markdown",
   "metadata": {},
   "source": [
    "# Notas"
   ]
  },
  {
   "cell_type": "code",
   "execution_count": 40,
   "metadata": {},
   "outputs": [],
   "source": [
    "df_notas = pd.read_excel('csvs\\Educacion.xlsx', sheet_name = 'Hoja7')"
   ]
  },
  {
   "cell_type": "code",
   "execution_count": 41,
   "metadata": {},
   "outputs": [],
   "source": [
    "df_notas['score_date'] = df_notas['score_date'].astype(str)"
   ]
  },
  {
   "cell_type": "code",
   "execution_count": 42,
   "metadata": {},
   "outputs": [],
   "source": [
    "con = sqlite3.connect(db_path)\n",
    "code, message = change_table(con, 'e_scores', 'ID_score', df_notas.to_dict('records'))\n",
    "con.close()\n",
    "\n",
    "if code != 0:\n",
    "    print(message)"
   ]
  },
  {
   "cell_type": "markdown",
   "metadata": {},
   "source": [
    "# Asistencia"
   ]
  },
  {
   "cell_type": "markdown",
   "metadata": {},
   "source": [
    "## Servicios"
   ]
  },
  {
   "cell_type": "code",
   "execution_count": 45,
   "metadata": {},
   "outputs": [],
   "source": [
    "df_servicios = pd.read_excel('csvs\\Asistencia.xlsx', sheet_name = 'Hoja1')"
   ]
  },
  {
   "cell_type": "code",
   "execution_count": 46,
   "metadata": {},
   "outputs": [],
   "source": [
    "con = sqlite3.connect(db_path)\n",
    "code, message = change_table(con, 'c_services', 'ID_service', df_servicios.to_dict('records'))\n",
    "con.close()\n",
    "\n",
    "if code != 0:\n",
    "    print(message)"
   ]
  },
  {
   "cell_type": "markdown",
   "metadata": {},
   "source": [
    "## Solicitantes"
   ]
  },
  {
   "cell_type": "code",
   "execution_count": 50,
   "metadata": {},
   "outputs": [],
   "source": [
    "df_solic = pd.read_excel('csvs\\Asistencia.xlsx', sheet_name = 'Hoja2')"
   ]
  },
  {
   "cell_type": "code",
   "execution_count": 51,
   "metadata": {},
   "outputs": [],
   "source": [
    "df_solic['applicant_birthdate'] = df_solic['applicant_birthdate'].astype(str)"
   ]
  },
  {
   "cell_type": "code",
   "execution_count": 52,
   "metadata": {},
   "outputs": [],
   "source": [
    "con = sqlite3.connect(db_path)\n",
    "code, message = change_table(con, 'c_applicants', 'ID_applicant', df_solic.to_dict('records'))\n",
    "con.close()\n",
    "\n",
    "if code != 0:\n",
    "    print(message)"
   ]
  },
  {
   "cell_type": "markdown",
   "metadata": {},
   "source": [
    "## Tramites"
   ]
  },
  {
   "cell_type": "code",
   "execution_count": 53,
   "metadata": {},
   "outputs": [],
   "source": [
    "df_tram = pd.read_excel('csvs\\Asistencia.xlsx', sheet_name = 'Hoja3')"
   ]
  },
  {
   "cell_type": "code",
   "execution_count": 56,
   "metadata": {},
   "outputs": [],
   "source": [
    "df_tram['application_date'] = df_tram['application_date'].astype(str)\n",
    "df_tram['procedure_date'] = df_tram['procedure_date'].astype(str)"
   ]
  },
  {
   "cell_type": "code",
   "execution_count": 57,
   "metadata": {},
   "outputs": [],
   "source": [
    "con = sqlite3.connect(db_path)\n",
    "code, message = change_table(con, 'c_procedures', 'ID_procedure', df_tram.to_dict('records'))\n",
    "con.close()\n",
    "\n",
    "if code != 0:\n",
    "    print(message)"
   ]
  },
  {
   "cell_type": "markdown",
   "metadata": {},
   "source": [
    "# Voluntarios"
   ]
  },
  {
   "cell_type": "markdown",
   "metadata": {},
   "source": [
    "## vol"
   ]
  },
  {
   "cell_type": "code",
   "execution_count": 64,
   "metadata": {},
   "outputs": [],
   "source": [
    "df_vol = pd.read_excel('csvs\\Voluntarios.xlsx', sheet_name = 'Hoja1')"
   ]
  },
  {
   "cell_type": "code",
   "execution_count": 65,
   "metadata": {},
   "outputs": [],
   "source": [
    "df_vol['volunteer_birthdate'] = df_vol['volunteer_birthdate'].astype(str)"
   ]
  },
  {
   "cell_type": "code",
   "execution_count": 66,
   "metadata": {},
   "outputs": [],
   "source": [
    "con = sqlite3.connect(db_path)\n",
    "code, message = change_table(con, 'v_volunteers', 'ID_volunteer', df_vol.to_dict('records'))\n",
    "con.close()\n",
    "\n",
    "if code != 0:\n",
    "    print(message)"
   ]
  },
  {
   "cell_type": "markdown",
   "metadata": {},
   "source": [
    "## tipo vol"
   ]
  },
  {
   "cell_type": "code",
   "execution_count": 76,
   "metadata": {},
   "outputs": [],
   "source": [
    "df_vol_t = pd.read_excel('csvs\\Voluntarios.xlsx', sheet_name = 'Hoja2')"
   ]
  },
  {
   "cell_type": "code",
   "execution_count": 77,
   "metadata": {},
   "outputs": [],
   "source": [
    "con = sqlite3.connect(db_path)\n",
    "code, message = change_table(con, 'v_volunteer_type', 'ID_volunteer_type', df_vol_t.to_dict('records'))\n",
    "con.close()\n",
    "\n",
    "if code != 0:\n",
    "    print(message)"
   ]
  },
  {
   "cell_type": "markdown",
   "metadata": {},
   "source": [
    "# Food Bank"
   ]
  },
  {
   "cell_type": "markdown",
   "metadata": {},
   "source": [
    "## productos"
   ]
  },
  {
   "cell_type": "code",
   "execution_count": 79,
   "metadata": {},
   "outputs": [],
   "source": [
    "df_fb = pd.read_excel('csvs\\Food_Bank.xlsx', sheet_name = 'Hoja1')"
   ]
  },
  {
   "cell_type": "code",
   "execution_count": 80,
   "metadata": {},
   "outputs": [],
   "source": [
    "con = sqlite3.connect(db_path)\n",
    "code, message = change_table(con, 'b_products', 'ID_product', df_fb.to_dict('records'))\n",
    "con.close()\n",
    "\n",
    "if code != 0:\n",
    "    print(message)"
   ]
  },
  {
   "cell_type": "markdown",
   "metadata": {},
   "source": [
    "## donaciones"
   ]
  },
  {
   "cell_type": "code",
   "execution_count": 81,
   "metadata": {},
   "outputs": [],
   "source": [
    "df_don = pd.read_excel('csvs\\Food_Bank.xlsx', sheet_name = 'Hoja2')"
   ]
  },
  {
   "cell_type": "code",
   "execution_count": 83,
   "metadata": {},
   "outputs": [],
   "source": [
    "df_don['expiration_date'] = df_don['expiration_date'].astype(str)"
   ]
  },
  {
   "cell_type": "code",
   "execution_count": 84,
   "metadata": {},
   "outputs": [],
   "source": [
    "con = sqlite3.connect(db_path)\n",
    "code, message = change_table(con, 'b_donations', 'ID_donation', df_don.to_dict('records'))\n",
    "con.close()\n",
    "\n",
    "if code != 0:\n",
    "    print(message)"
   ]
  },
  {
   "cell_type": "markdown",
   "metadata": {},
   "source": [
    "## Donantes"
   ]
  },
  {
   "cell_type": "code",
   "execution_count": 86,
   "metadata": {},
   "outputs": [],
   "source": [
    "df_donor = pd.read_excel('csvs\\Food_Bank.xlsx', sheet_name = 'Hoja3')"
   ]
  },
  {
   "cell_type": "code",
   "execution_count": 87,
   "metadata": {},
   "outputs": [],
   "source": [
    "con = sqlite3.connect(db_path)\n",
    "code, message = change_table(con, 'b_donors', 'ID_donor', df_donor.to_dict('records'))\n",
    "con.close()\n",
    "\n",
    "if code != 0:\n",
    "    print(message)"
   ]
  },
  {
   "cell_type": "markdown",
   "metadata": {},
   "source": [
    "## Donaciones evento"
   ]
  },
  {
   "cell_type": "code",
   "execution_count": 89,
   "metadata": {},
   "outputs": [],
   "source": [
    "df_dono_e = pd.read_excel('csvs\\Food_Bank.xlsx', sheet_name = 'Hoja4')"
   ]
  },
  {
   "cell_type": "code",
   "execution_count": 91,
   "metadata": {},
   "outputs": [],
   "source": [
    "df_dono_e['donation_date'] = df_dono_e['donation_date'].astype(str)"
   ]
  },
  {
   "cell_type": "code",
   "execution_count": 92,
   "metadata": {},
   "outputs": [],
   "source": [
    "con = sqlite3.connect(db_path)\n",
    "code, message = change_table(con, 'b_donation_event', 'ID_donation_event', df_dono_e.to_dict('records'))\n",
    "con.close()\n",
    "\n",
    "if code != 0:\n",
    "    print(message)"
   ]
  },
  {
   "cell_type": "markdown",
   "metadata": {},
   "source": [
    "## Beneficiarios"
   ]
  },
  {
   "cell_type": "code",
   "execution_count": 93,
   "metadata": {},
   "outputs": [],
   "source": [
    "df_benef = pd.read_excel('csvs\\Food_Bank.xlsx', sheet_name = 'Hoja5')"
   ]
  },
  {
   "cell_type": "code",
   "execution_count": 94,
   "metadata": {},
   "outputs": [],
   "source": [
    "con = sqlite3.connect(db_path)\n",
    "code, message = change_table(con, 'b_beneficiaries', 'ID_beneficiary', df_benef.to_dict('records'))\n",
    "con.close()\n",
    "\n",
    "if code != 0:\n",
    "    print(message)"
   ]
  },
  {
   "cell_type": "markdown",
   "metadata": {},
   "source": [
    "## Entregas"
   ]
  },
  {
   "cell_type": "code",
   "execution_count": 96,
   "metadata": {},
   "outputs": [],
   "source": [
    "df_entreg = pd.read_excel('csvs\\Food_Bank.xlsx', sheet_name = 'Hoja6')"
   ]
  },
  {
   "cell_type": "code",
   "execution_count": 98,
   "metadata": {},
   "outputs": [],
   "source": [
    "df_entreg['delivery_date'] = df_entreg['delivery_date'].astype(str)"
   ]
  },
  {
   "cell_type": "code",
   "execution_count": 99,
   "metadata": {},
   "outputs": [],
   "source": [
    "con = sqlite3.connect(db_path)\n",
    "code, message = change_table(con, 'b_deliveries', 'ID_delivery', df_entreg.to_dict('records'))\n",
    "con.close()\n",
    "\n",
    "if code != 0:\n",
    "    print(message)"
   ]
  },
  {
   "cell_type": "code",
   "execution_count": null,
   "metadata": {},
   "outputs": [],
   "source": []
  }
 ],
 "metadata": {
  "kernelspec": {
   "display_name": "Python 3",
   "language": "python",
   "name": "python3"
  },
  "language_info": {
   "codemirror_mode": {
    "name": "ipython",
    "version": 3
   },
   "file_extension": ".py",
   "mimetype": "text/x-python",
   "name": "python",
   "nbconvert_exporter": "python",
   "pygments_lexer": "ipython3",
   "version": "3.11.5"
  }
 },
 "nbformat": 4,
 "nbformat_minor": 2
}
